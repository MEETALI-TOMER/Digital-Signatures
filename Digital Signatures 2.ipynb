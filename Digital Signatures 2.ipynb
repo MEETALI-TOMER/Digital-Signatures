{
 "cells": [
  {
   "cell_type": "code",
   "execution_count": 1,
   "metadata": {},
   "outputs": [
    {
     "name": "stdout",
     "output_type": "stream",
     "text": [
      "Public key:  (n=0xc00be22d8fb90e2fe86db420e47b7498efc4bbd4b043d029b8066362fc03ff479743ca41bdb01d7249f90687d091745c1117c53c34cea3de916ead7c548b8d4f3e219fca79d7dea92c15adbfc5a6d4f5899f3bb3ea0d9b8875f1e024cf9d05e6e1c32ff752d1b8a79b40baa93512c1f4ea96243a9e55ce4737127eaa5bf6e687, e=0x10001)\n",
      "Private key: (n=0xc00be22d8fb90e2fe86db420e47b7498efc4bbd4b043d029b8066362fc03ff479743ca41bdb01d7249f90687d091745c1117c53c34cea3de916ead7c548b8d4f3e219fca79d7dea92c15adbfc5a6d4f5899f3bb3ea0d9b8875f1e024cf9d05e6e1c32ff752d1b8a79b40baa93512c1f4ea96243a9e55ce4737127eaa5bf6e687, d=0x156efe18f1aa73553b794aef9a308121df2e08d1edb393d44ecfea60636f701aa5b23b823cd11ebd8badf9b6f210847910b0a3785b0dc3a7952452191c8d255719eef3f8091e49c867cc015009f3c02e39749027c9676710812dcbbeb244f1eb697c8a8229bc1c4efb045483feac7841f1732703c58c438897d8162825e0af81)\n"
     ]
    }
   ],
   "source": [
    "from Crypto.PublicKey import RSA\n",
    "\n",
    "keyPair = RSA.generate(bits=1024)\n",
    "print(f\"Public key:  (n={hex(keyPair.n)}, e={hex(keyPair.e)})\")\n",
    "print(f\"Private key: (n={hex(keyPair.n)}, d={hex(keyPair.d)})\")"
   ]
  },
  {
   "cell_type": "code",
   "execution_count": 2,
   "metadata": {},
   "outputs": [
    {
     "name": "stdout",
     "output_type": "stream",
     "text": [
      "Signature: 0x6ea52f2c246c797677bb05b5a7bf1849ffc2e8b1ca068912fe0605eec1807fac88b161c131b30742bc4771b7ad4282487fe302666f53eadae2c9dbc3f83ff8a44445ea809e72753d767662d579e30a4433afd81392a950e6c01cb8b64bca48ecb8844633a4b504448fee42905386051eeecfa691f37d12ee1aa22deebaedb376\n"
     ]
    }
   ],
   "source": [
    "msg = b'Sample message'\n",
    "from hashlib import sha512\n",
    "hash = int.from_bytes(sha512(msg).digest(), byteorder='big')\n",
    "signature = pow(hash, keyPair.d, keyPair.n)\n",
    "print(\"Signature:\", hex(signature))"
   ]
  },
  {
   "cell_type": "code",
   "execution_count": 3,
   "metadata": {},
   "outputs": [
    {
     "name": "stdout",
     "output_type": "stream",
     "text": [
      "Signature valid: True\n"
     ]
    }
   ],
   "source": [
    "msg = b'Sample message'\n",
    "hash = int.from_bytes(sha512(msg).digest(), byteorder='big')\n",
    "hashFromSignature = pow(signature, keyPair.e, keyPair.n)\n",
    "print(\"Signature valid:\", hash == hashFromSignature)"
   ]
  },
  {
   "cell_type": "code",
   "execution_count": 4,
   "metadata": {},
   "outputs": [
    {
     "name": "stdout",
     "output_type": "stream",
     "text": [
      "Signature valid : False\n"
     ]
    }
   ],
   "source": [
    "msg = b'Message hacked'\n",
    "hash = int.from_bytes(sha512(msg).digest(), byteorder='big')\n",
    "hashFromSignature = pow(signature, keyPair.e, keyPair.n)\n",
    "print(\"Signature valid :\", hash == hashFromSignature)"
   ]
  },
  {
   "cell_type": "code",
   "execution_count": 5,
   "metadata": {},
   "outputs": [],
   "source": [
    "from Crypto.PublicKey import RSA\n",
    "from Crypto.Signature.pkcs1_15 import PKCS115_SigScheme\n",
    "from Crypto.Hash import SHA256\n",
    "import binascii"
   ]
  },
  {
   "cell_type": "code",
   "execution_count": 6,
   "metadata": {},
   "outputs": [],
   "source": [
    "keyPair = RSA.generate(bits=1024)\n",
    "pubKey = keyPair.publickey()"
   ]
  },
  {
   "cell_type": "code",
   "execution_count": 7,
   "metadata": {},
   "outputs": [
    {
     "name": "stdout",
     "output_type": "stream",
     "text": [
      "Signature: b'77505e28ecf3812c9e98720afed1ae0f40933b44c15a70bd7aba4c8153d35dff7e0d88e836798de92bde9fabcb6aa97a4f3d69d915e853bd4e772f3a4c50defa2b68c428b91d01588ebccce89986d3a375c16fa0dedaf958f5b1910c59db07e60b6e3d764b885fa5dcb2dc0403a54fa9f4d820657bfab99844f4a67bac893573'\n"
     ]
    }
   ],
   "source": [
    "msg = b'Message for RSA signing'\n",
    "hash = SHA256.new(msg)\n",
    "signer = PKCS115_SigScheme(keyPair)\n",
    "signature = signer.sign(hash)\n",
    "print(\"Signature:\", binascii.hexlify(signature))"
   ]
  },
  {
   "cell_type": "code",
   "execution_count": 8,
   "metadata": {},
   "outputs": [
    {
     "name": "stdout",
     "output_type": "stream",
     "text": [
      "Signature is valid.\n"
     ]
    }
   ],
   "source": [
    "msg = b'Message for RSA signing'\n",
    "hash = SHA256.new(msg)\n",
    "verifier = PKCS115_SigScheme(pubKey)\n",
    "try:\n",
    "    verifier.verify(hash, signature)\n",
    "    print(\"Signature is valid.\")\n",
    "except:\n",
    "    print(\"Signature is invalid.\")"
   ]
  },
  {
   "cell_type": "code",
   "execution_count": 9,
   "metadata": {},
   "outputs": [
    {
     "name": "stdout",
     "output_type": "stream",
     "text": [
      "Signature is invalid.\n"
     ]
    }
   ],
   "source": [
    "msg = b'A tampered message'\n",
    "hash = SHA256.new(msg)\n",
    "verifier = PKCS115_SigScheme(pubKey)\n",
    "try:\n",
    "    verifier.verify(hash, signature)\n",
    "    print(\"Signature is valid.\")\n",
    "except:\n",
    "    print(\"Signature is invalid.\")"
   ]
  }
 ],
 "metadata": {
  "kernelspec": {
   "display_name": "Python 3",
   "language": "python",
   "name": "python3"
  },
  "language_info": {
   "codemirror_mode": {
    "name": "ipython",
    "version": 3
   },
   "file_extension": ".py",
   "mimetype": "text/x-python",
   "name": "python",
   "nbconvert_exporter": "python",
   "pygments_lexer": "ipython3",
   "version": "3.8.3"
  }
 },
 "nbformat": 4,
 "nbformat_minor": 4
}
